{
  "nbformat": 4,
  "nbformat_minor": 0,
  "metadata": {
    "colab": {
      "provenance": [],
      "collapsed_sections": [
        "IJ8ybXIKk9uJ"
      ]
    },
    "kernelspec": {
      "name": "python3",
      "display_name": "Python 3"
    },
    "language_info": {
      "name": "python"
    }
  },
  "cells": [
    {
      "cell_type": "markdown",
      "source": [
        "# Problem 1\n",
        "Viết chương trình tính toán giá trị xấp xỉ của hàm $e^x$ dựa theo công thức sau đây:\n",
        "\n",
        "$\n",
        "e^x = 1 + x + \\frac{x^2}{2!} + \\frac{x^3}{3!} + \\dots + \\frac{x^n}{n!}\n",
        "$\n",
        "\n",
        "\n",
        "**Lưu ý:** Các bạn có thể tự cài đặt hàm giai thừa riêng bên ngoài và gán lại cho biến cần sử dụng để code gọn.\n"
      ],
      "metadata": {
        "id": "IJ8ybXIKk9uJ"
      }
    },
    {
      "cell_type": "code",
      "source": [
        "def factorial(n):\n",
        "    \"\"\"Tính giai thừa của một số nguyên dương n.\"\"\"\n",
        "    if n == 0 or n == 1:\n",
        "        return 1\n",
        "    result = 1\n",
        "    for i in range(2, n + 1):\n",
        "        result *= i\n",
        "    return result\n",
        "\n",
        "def approximate_exponential(x, n):\n",
        "    \"\"\"\n",
        "    Tính xấp xỉ giá trị của hàm e^x.\n",
        "\n",
        "    x: Số mũ.\n",
        "    n: Số lượng phần tử của chuỗi Taylor.\n",
        "    \"\"\"\n",
        "    result = 0\n",
        "    for i in range(n + 1):\n",
        "        result += (x ** i) / factorial(i)\n",
        "    return result"
      ],
      "metadata": {
        "id": "X1vi1IO1lbAX"
      },
      "execution_count": null,
      "outputs": []
    },
    {
      "cell_type": "code",
      "source": [
        "# Ví dụ sử dụng\n",
        "x = float(input(\"Nhập giá trị x: \"))\n",
        "n = int(input(\"Nhập số lượng phần tử n: \"))\n",
        "\n",
        "approximation = approximate_exponential(x, n)\n",
        "print(f\"Giá trị xấp xỉ của e^{x} với {n} phần tử là: {approximation}\")"
      ],
      "metadata": {
        "id": "F7METytnmAlc"
      },
      "execution_count": null,
      "outputs": []
    },
    {
      "cell_type": "markdown",
      "source": [
        "# Problem 2\n",
        "\n",
        "Viết chương trình trả về một dictionary đếm số  lượng chữ xuất hiện trong 1 từ, với key là chữ cái và value là số lần xuất hiện\n",
        "\n",
        "- **Input:** 1 từ\n",
        "- **Output:** dictionary đếm số lần các chữ xuất hiện\n",
        "- Note:\n",
        "    - Giả sử các từ nhập vào đều có các chữ cái thuộc [a-z] hoặc [A-Z]"
      ],
      "metadata": {
        "id": "dFpSxcr5kxEu"
      }
    },
    {
      "cell_type": "code",
      "execution_count": null,
      "metadata": {
        "id": "Gxdhn_FWkvvt"
      },
      "outputs": [],
      "source": [
        "def count_chars(inp_str):\n",
        "    results = {} # {}\n",
        "    # if key (character) exists\n",
        "    # increase counter 1 unit\n",
        "    # else create an item with key is character and\n",
        "    # value is 1\n",
        "    for i in inp_str:\n",
        "        if results.get(i):\n",
        "            results[i] += 1\n",
        "        else:\n",
        "            results[i] = 1\n",
        "    return results"
      ]
    },
    {
      "cell_type": "code",
      "source": [
        "string = 'Happiness'\n",
        "count_chars(string)"
      ],
      "metadata": {
        "id": "ME_D0yFXk2uX"
      },
      "execution_count": null,
      "outputs": []
    },
    {
      "cell_type": "code",
      "source": [
        "string = 'smiles'\n",
        "count_chars(string)"
      ],
      "metadata": {
        "id": "gMV59Ng7k4FC"
      },
      "execution_count": null,
      "outputs": []
    },
    {
      "cell_type": "markdown",
      "source": [
        "# Problem 3\n",
        "\n",
        "Cho một chuỗi coded_str chứa các ký tự đã được mã hóa theo cách sau k[string],\n",
        "trong đó k là số lần string trong dấu [] được lập lại.\n",
        "Điều kiện: coded_str là các chuỗi các ký tự tiếng Anh và string chỉ chứa các ký tự [a-z]\n",
        "và [A-Z] không có ký tự đăc biệt và không phải là số. Nếu là số thì bắt buộc phải là k và\n",
        "đứng trước []. Viết function giải mã coded_str và trả về string đã được giải mã.\n",
        "\n",
        "Note:\n",
        "- k trong range [1, 9]\n",
        "\n",
        "\n",
        "Ví dụ:\n",
        "\n",
        "- Input: coded_str = \"2[abc]3[cd]ef\"\n",
        "\n",
        "- Output: \"abcabccdcdcdef\"\n",
        "\n",
        "- Input: coded_str = \"abc3[cd]xyz\"\n",
        "\n",
        "- Output: \"abccdcdcdxyz\""
      ],
      "metadata": {
        "id": "WhnGvbWqoFP7"
      }
    },
    {
      "cell_type": "code",
      "source": [
        "def decode_string(coded_str):\n",
        "    decoded_string = ''\n",
        "    k = -1\n",
        "    rep_str = ''\n",
        "    # flag dùng để báo hiệu ghi nhận chuỗi sẽ được lặp\n",
        "    open_flag = False\n",
        "    for c in coded_str :\n",
        "        # kiểm tra xem có phải số hay không\n",
        "        # nếu là số thì là k\n",
        "        if c.isdigit():\n",
        "            k = int(c)\n",
        "            continue\n",
        "        # mở flag để chuẩn bị ghi nhân các ký tự trong\n",
        "        # chuỗi sẽ lặp\n",
        "        elif c == '[':\n",
        "            # Ko cần check vì giả xử luôn nhập đúng\n",
        "            # và k luôn = -1 khi gặp ']'\n",
        "            # if k == -1:\n",
        "            #     print(f'K={k} is wrong ')\n",
        "            #     return\n",
        "            # else:\n",
        "            open_flag = True\n",
        "        # kiểm tra các trường hợp là chữ cái\n",
        "        elif c.isalpha():\n",
        "            # kiểm tra xem nếu open_flag thì ghi vào\n",
        "            # chuỗi lặp rep_str đẻ lặp khi gặp ']'\n",
        "            if open_flag:\n",
        "                rep_str += c\n",
        "            # nêu open_flag = False thì ghi chữ cái vào\n",
        "            # chuỗi result để trả về kết quả (ko cần lặp)\n",
        "            else:\n",
        "                decoded_string += c\n",
        "        # trường hơp nhận biết kết thúc chuỗi lặp\n",
        "        # để lặp chuỗi k lần và clear k, rep_str, và open_flag\n",
        "        elif c == ']':\n",
        "            # lặp rep_str k lần\n",
        "            decoded_string += rep_str*k\n",
        "            # clear k, rep_str, và open_flag\n",
        "            k = -1\n",
        "            rep_str = ''\n",
        "            open_flag = False\n",
        "        #else:\n",
        "            # check lỗi\n",
        "    return decoded_string"
      ],
      "metadata": {
        "id": "ROISbGwQoJiD"
      },
      "execution_count": null,
      "outputs": []
    },
    {
      "cell_type": "code",
      "source": [
        "result = decode_string(coded_str=\"2[abc]3[cd]ef\")\n",
        "print(result)"
      ],
      "metadata": {
        "id": "gQN198FTqTBt"
      },
      "execution_count": null,
      "outputs": []
    },
    {
      "cell_type": "code",
      "source": [
        "result = decode_string(coded_str= \"abc3[cd]xyz\")\n",
        "print(result)"
      ],
      "metadata": {
        "id": "-R_GPj3aqUh-"
      },
      "execution_count": null,
      "outputs": []
    },
    {
      "cell_type": "markdown",
      "source": [
        "# Problem 4\n",
        "## Đầu vào\n",
        "Một danh sách `data` gồm các chuỗi ký tự. Mỗi chuỗi có dạng:key1=value1;key2=value2;...\n",
        "\n",
        "\n",
        "Trong đó:\n",
        "1. `key` là tên một thuộc tính (chuỗi không chứa ký tự `=` hoặc `;`).\n",
        "2. `value` có thể là một số nguyên, số thực, hoặc chuỗi ký tự.\n",
        "\n",
        "## Yêu cầu\n",
        "\n",
        "1. Phân tích dữ liệu thành một dictionary lớn, tạo một dictionary từ danh sách trên, trong đó:\n",
        "    - Mỗi `key` từ chuỗi trở thành một `key` trong dictionary.\n",
        "    - Giá trị tương ứng là danh sách tất cả các `value` của `key` đó xuất hiện trong danh sách `data`.\n",
        "\n",
        "2. Với mỗi `key`, tính:\n",
        "    - Số lượng giá trị duy nhất (`unique_count`).\n",
        "    - Giá trị lớn nhất (`max_value`, nếu là số).\n",
        "    - Độ dài chuỗi lớn nhất (`max_length`, nếu là chuỗi).\n",
        "\n",
        "3. Lưu kết quả dưới dạng một dictionary mới.\n",
        "\n",
        "## Ví dụ\n",
        "\n",
        "```python\n",
        "# Đầu vào\n",
        "data = [\n",
        "    \"name=Alice;age=30;score=85.5\",\n",
        "    \"name=Bob;age=25;score=90\",\n",
        "    \"name=Alice;age=30;score=92\",\n",
        "    \"city=NewYork;name=Eve;age=35;score=88\",\n",
        "    \"city=London;name=Alice;age=30;score=85.5\"\n",
        "]\n",
        "\n",
        "# Đầu ra\n",
        "dict = {\n",
        "    \"name\": [\"Alice\", \"Bob\", \"Alice\", \"Eve\", \"Alice\"],\n",
        "    \"age\": [30, 25, 30, 35, 30],\n",
        "    \"score\": [85.5, 90, 92, 88, 85.5],\n",
        "    \"city\": [\"NewYork\", \"London\"]\n",
        "}\n",
        "result = {\n",
        "    \"name\": {\"unique_count\": 3, \"max_value\": None, \"max_length\": 5},\n",
        "    \"age\": {\"unique_count\": 3, \"max_value\": 35, \"max_length\": None},\n",
        "    \"score\": {\"unique_count\": 4, \"max_value\": 92, \"max_length\": None},\n",
        "    \"city\": {\"unique_count\": 2, \"max_value\": None, \"max_length\": 7}\n",
        "}\n"
      ],
      "metadata": {
        "id": "sphOIWutmX9S"
      }
    },
    {
      "cell_type": "code",
      "source": [
        "from collections import defaultdict\n",
        "\n",
        "# Dữ liệu đầu vào\n",
        "data = [\n",
        "    \"name=Alice;age=30;score=85.5\",\n",
        "    \"name=Bob;age=25;score=90\",\n",
        "    \"name=Alice;age=30;score=92\",\n",
        "    \"city=NewYork;name=Eve;age=35;score=88\",\n",
        "    \"city=London;name=Alice;age=30;score=85.5\"\n",
        "]\n",
        "\n",
        "# Phân tích dữ liệu thành dictionary lớn\n",
        "dict_data = defaultdict(list)\n",
        "\n",
        "# Tách từng chuỗi trong danh sách\n",
        "for entry in data:\n",
        "    pairs = entry.split(';')\n",
        "    for pair in pairs:\n",
        "        key, value = pair.split('=')\n",
        "        # Xử lý kiểu dữ liệu cho value\n",
        "        if value.isdigit():  # Số nguyên\n",
        "            value = int(value)\n",
        "        else:\n",
        "            try:\n",
        "                value = float(value)  # Số thực\n",
        "            except ValueError:\n",
        "                pass  # Chuỗi ký tự giữ nguyên\n",
        "        dict_data[key].append(value)\n",
        "\n",
        "# Tính toán kết quả\n",
        "result = {}\n",
        "\n",
        "for key, values in dict_data.items():\n",
        "    unique_values = set(values)\n",
        "    unique_count = len(unique_values)\n",
        "\n",
        "    # Tìm giá trị lớn nhất nếu là số\n",
        "    max_value = max((v for v in values if isinstance(v, (int, float))), default=None)\n",
        "\n",
        "    # Tìm độ dài chuỗi lớn nhất nếu là chuỗi\n",
        "    max_length = max((len(v) for v in values if isinstance(v, str)), default=None)\n",
        "\n",
        "    result[key] = {\n",
        "        \"unique_count\": unique_count,\n",
        "        \"max_value\": max_value,\n",
        "        \"max_length\": max_length\n",
        "    }\n",
        "\n",
        "# In kết quả\n",
        "print(\"dict =\", dict(dict_data))\n",
        "print(\"result =\", result)\n"
      ],
      "metadata": {
        "id": "B3ozyK9nmZft",
        "colab": {
          "base_uri": "https://localhost:8080/"
        },
        "outputId": "db4e55a3-881e-43a5-de44-a9f198d72825"
      },
      "execution_count": null,
      "outputs": [
        {
          "output_type": "stream",
          "name": "stdout",
          "text": [
            "dict = {'name': ['Alice', 'Bob', 'Alice', 'Eve', 'Alice'], 'age': [30, 25, 30, 35, 30], 'score': [85.5, 90, 92, 88, 85.5], 'city': ['NewYork', 'London']}\n",
            "result = {'name': {'unique_count': 3, 'max_value': None, 'max_length': 5}, 'age': {'unique_count': 3, 'max_value': 35, 'max_length': None}, 'score': {'unique_count': 4, 'max_value': 92, 'max_length': None}, 'city': {'unique_count': 2, 'max_value': None, 'max_length': 7}}\n"
          ]
        }
      ]
    },
    {
      "cell_type": "code",
      "source": [],
      "metadata": {
        "id": "FSYXHWcEnCo9"
      },
      "execution_count": null,
      "outputs": []
    }
  ]
}